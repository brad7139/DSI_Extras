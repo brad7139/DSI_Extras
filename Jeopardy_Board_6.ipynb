{
 "cells": [
  {
   "cell_type": "markdown",
   "metadata": {},
   "source": [
    "<img src=\"http://imgur.com/1ZcRyrc.png\" style=\"float: left; margin: 20px; height: 55px\">\n",
    "\n",
    "# Jeopardy Style Review!\n",
    "\n",
    "_Author: Tucker Allen | DSI-NYC | August 2018_ <br/>\n",
    "_Edited: TBD | TBD | TBD_\n",
    "\n",
    "---"
   ]
  },
  {
   "cell_type": "markdown",
   "metadata": {},
   "source": [
    "### Some light review of DSI material up to the end of Week 5. Everything is fair game!"
   ]
  },
  {
   "cell_type": "code",
   "execution_count": 1,
   "metadata": {
    "collapsed": true
   },
   "outputs": [],
   "source": [
    "import pandas as pd"
   ]
  },
  {
   "cell_type": "code",
   "execution_count": 2,
   "metadata": {
    "collapsed": true
   },
   "outputs": [],
   "source": [
    "# Instantiate the starting board\n",
    "values = ['$200', '$400', '$600', '$800', '$1000']\n",
    "\n",
    "board = pd.DataFrame()\n",
    "board['Data Science'] = values\n",
    "board['Ensemble Methods'] = values\n",
    "board['Potent Potables'] = values\n",
    "board['Yay, Data Science'] = values\n",
    "board['S Words'] = values"
   ]
  },
  {
   "cell_type": "code",
   "execution_count": 3,
   "metadata": {
    "collapsed": true
   },
   "outputs": [],
   "source": [
    "# Function to take selected Category and Value off the board\n",
    "def selection(category, value):\n",
    "    my_map = {'$200':0, '$400':1, '$600':2, '$800':3, '$1000':4}\n",
    "    board.loc[my_map[value], category] = '---'\n",
    "    display(board)\n",
    "    return"
   ]
  },
  {
   "cell_type": "code",
   "execution_count": 4,
   "metadata": {},
   "outputs": [
    {
     "data": {
      "text/html": [
       "<div>\n",
       "<style scoped>\n",
       "    .dataframe tbody tr th:only-of-type {\n",
       "        vertical-align: middle;\n",
       "    }\n",
       "\n",
       "    .dataframe tbody tr th {\n",
       "        vertical-align: top;\n",
       "    }\n",
       "\n",
       "    .dataframe thead th {\n",
       "        text-align: right;\n",
       "    }\n",
       "</style>\n",
       "<table border=\"1\" class=\"dataframe\">\n",
       "  <thead>\n",
       "    <tr style=\"text-align: right;\">\n",
       "      <th></th>\n",
       "      <th>Data Science</th>\n",
       "      <th>Ensemble Methods</th>\n",
       "      <th>Potent Potables</th>\n",
       "      <th>Yay, Data Science</th>\n",
       "      <th>S Words</th>\n",
       "    </tr>\n",
       "  </thead>\n",
       "  <tbody>\n",
       "    <tr>\n",
       "      <th>0</th>\n",
       "      <td>$200</td>\n",
       "      <td>$200</td>\n",
       "      <td>$200</td>\n",
       "      <td>$200</td>\n",
       "      <td>$200</td>\n",
       "    </tr>\n",
       "    <tr>\n",
       "      <th>1</th>\n",
       "      <td>$400</td>\n",
       "      <td>$400</td>\n",
       "      <td>$400</td>\n",
       "      <td>$400</td>\n",
       "      <td>$400</td>\n",
       "    </tr>\n",
       "    <tr>\n",
       "      <th>2</th>\n",
       "      <td>$600</td>\n",
       "      <td>$600</td>\n",
       "      <td>$600</td>\n",
       "      <td>$600</td>\n",
       "      <td>$600</td>\n",
       "    </tr>\n",
       "    <tr>\n",
       "      <th>3</th>\n",
       "      <td>$800</td>\n",
       "      <td>$800</td>\n",
       "      <td>$800</td>\n",
       "      <td>$800</td>\n",
       "      <td>$800</td>\n",
       "    </tr>\n",
       "    <tr>\n",
       "      <th>4</th>\n",
       "      <td>$1000</td>\n",
       "      <td>$1000</td>\n",
       "      <td>$1000</td>\n",
       "      <td>$1000</td>\n",
       "      <td>$1000</td>\n",
       "    </tr>\n",
       "  </tbody>\n",
       "</table>\n",
       "</div>"
      ],
      "text/plain": [
       "  Data Science Ensemble Methods Potent Potables Yay, Data Science S Words\n",
       "0         $200             $200            $200              $200    $200\n",
       "1         $400             $400            $400              $400    $400\n",
       "2         $600             $600            $600              $600    $600\n",
       "3         $800             $800            $800              $800    $800\n",
       "4        $1000            $1000           $1000             $1000   $1000"
      ]
     },
     "execution_count": 4,
     "metadata": {},
     "output_type": "execute_result"
    }
   ],
   "source": [
    "# Present the opening board\n",
    "board"
   ]
  },
  {
   "cell_type": "code",
   "execution_count": 30,
   "metadata": {},
   "outputs": [
    {
     "data": {
      "text/html": [
       "<div>\n",
       "<style scoped>\n",
       "    .dataframe tbody tr th:only-of-type {\n",
       "        vertical-align: middle;\n",
       "    }\n",
       "\n",
       "    .dataframe tbody tr th {\n",
       "        vertical-align: top;\n",
       "    }\n",
       "\n",
       "    .dataframe thead th {\n",
       "        text-align: right;\n",
       "    }\n",
       "</style>\n",
       "<table border=\"1\" class=\"dataframe\">\n",
       "  <thead>\n",
       "    <tr style=\"text-align: right;\">\n",
       "      <th></th>\n",
       "      <th>Data Science</th>\n",
       "      <th>Ensemble Methods</th>\n",
       "      <th>Potent Potables</th>\n",
       "      <th>Yay, Data Science</th>\n",
       "      <th>S Words</th>\n",
       "      <th></th>\n",
       "    </tr>\n",
       "  </thead>\n",
       "  <tbody>\n",
       "    <tr>\n",
       "      <th>0</th>\n",
       "      <td>---</td>\n",
       "      <td>---</td>\n",
       "      <td>---</td>\n",
       "      <td>---</td>\n",
       "      <td>$200</td>\n",
       "      <td>NaN</td>\n",
       "    </tr>\n",
       "    <tr>\n",
       "      <th>1</th>\n",
       "      <td>---</td>\n",
       "      <td>---</td>\n",
       "      <td>---</td>\n",
       "      <td>---</td>\n",
       "      <td>---</td>\n",
       "      <td>---</td>\n",
       "    </tr>\n",
       "    <tr>\n",
       "      <th>2</th>\n",
       "      <td>---</td>\n",
       "      <td>---</td>\n",
       "      <td>---</td>\n",
       "      <td>---</td>\n",
       "      <td>---</td>\n",
       "      <td>NaN</td>\n",
       "    </tr>\n",
       "    <tr>\n",
       "      <th>3</th>\n",
       "      <td>---</td>\n",
       "      <td>---</td>\n",
       "      <td>---</td>\n",
       "      <td>---</td>\n",
       "      <td>---</td>\n",
       "      <td>NaN</td>\n",
       "    </tr>\n",
       "    <tr>\n",
       "      <th>4</th>\n",
       "      <td>---</td>\n",
       "      <td>---</td>\n",
       "      <td>---</td>\n",
       "      <td>---</td>\n",
       "      <td>---</td>\n",
       "      <td>NaN</td>\n",
       "    </tr>\n",
       "  </tbody>\n",
       "</table>\n",
       "</div>"
      ],
      "text/plain": [
       "  Data Science Ensemble Methods Potent Potables Yay, Data Science S Words     \n",
       "0          ---              ---             ---               ---    $200  NaN\n",
       "1          ---              ---             ---               ---     ---  ---\n",
       "2          ---              ---             ---               ---     ---  NaN\n",
       "3          ---              ---             ---               ---     ---  NaN\n",
       "4          ---              ---             ---               ---     ---  NaN"
      ]
     },
     "metadata": {},
     "output_type": "display_data"
    }
   ],
   "source": [
    "# Show this board for the remainder of the game after the opening question. Ctrl+Enter to execute and stay on cell\n",
    "selection('Potent Potables', '$800')"
   ]
  },
  {
   "cell_type": "code",
   "execution_count": null,
   "metadata": {
    "collapsed": true
   },
   "outputs": [],
   "source": []
  },
  {
   "cell_type": "markdown",
   "metadata": {
    "collapsed": true
   },
   "source": [
    "### Instructor Notes:\n",
    "- The questions and answers are in questions.txt, there's probably a more efficient way of storing/referencing them, but that's just what I came up with on the fly.\n",
    "<br><br>\n",
    "- Up to you, but in NYC, I split 16 students up into 4 teams of 4. Only one person is eligible to buzz in/answer from each team at a time (rotates clockwise with each question).\n",
    "<br><br>\n",
    "- Start a Slack thread. Copy the question into the thread, read it aloud, and then press enter. The first slack response (\"buzz\" or whatever) from an eligible person may respond for their team.\n",
    "<br><br>\n",
    "- We kept score on the whiteboard. You can decide whether to dock points for not giving answers in the form of a question (we had a lot of heated opinions about this).\n",
    "<br><br>\n",
    "- Wish I had time to add Daily Double Functionality!"
   ]
  },
  {
   "cell_type": "code",
   "execution_count": null,
   "metadata": {
    "collapsed": true
   },
   "outputs": [],
   "source": []
  }
 ],
 "metadata": {
  "kernelspec": {
   "display_name": "Python 3",
   "language": "python",
   "name": "python3"
  },
  "language_info": {
   "codemirror_mode": {
    "name": "ipython",
    "version": 3
   },
   "file_extension": ".py",
   "mimetype": "text/x-python",
   "name": "python",
   "nbconvert_exporter": "python",
   "pygments_lexer": "ipython3",
   "version": "3.7.0"
  }
 },
 "nbformat": 4,
 "nbformat_minor": 2
}
